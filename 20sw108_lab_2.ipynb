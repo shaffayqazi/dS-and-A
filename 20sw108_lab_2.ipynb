{
  "nbformat": 4,
  "nbformat_minor": 0,
  "metadata": {
    "colab": {
      "provenance": [],
      "authorship_tag": "ABX9TyM4Pq//j4i7gWRLYkD8OTRT",
      "include_colab_link": true
    },
    "kernelspec": {
      "name": "python3",
      "display_name": "Python 3"
    },
    "language_info": {
      "name": "python"
    }
  },
  "cells": [
    {
      "cell_type": "markdown",
      "metadata": {
        "id": "view-in-github",
        "colab_type": "text"
      },
      "source": [
        "<a href=\"https://colab.research.google.com/github/shaffayqazi/dS-and-A/blob/main/20sw108_lab_2.ipynb\" target=\"_parent\"><img src=\"https://colab.research.google.com/assets/colab-badge.svg\" alt=\"Open In Colab\"/></a>"
      ]
    },
    {
      "cell_type": "markdown",
      "source": [
        "## **TASK 1**"
      ],
      "metadata": {
        "id": "FcdKJ2QAL2r3"
      }
    },
    {
      "cell_type": "code",
      "execution_count": 3,
      "metadata": {
        "colab": {
          "base_uri": "https://localhost:8080/"
        },
        "id": "JA4CsSq4LxrR",
        "outputId": "23fea579-15ad-4060-d819-d7705596ee79"
      },
      "outputs": [
        {
          "output_type": "stream",
          "name": "stdout",
          "text": [
            "Congratulations! You won a rabbit\n"
          ]
        }
      ],
      "source": [
        "points = 174\n",
        "\n",
        "if points >= 1 and points <= 50:\n",
        "    result = \"Congratulations! You won a 500 tickets\"\n",
        "elif points >= 51 and points <= 150:\n",
        "    result = \"Congratulations! You won a no prize this time.\"\n",
        "elif points >= 151 and points <= 180:\n",
        "    result = \"Congratulations! You won a rabbit\"\n",
        "elif points >= 181 and points <= 200:\n",
        "    result = \"Congratulations! You won a penguin!\"\n",
        "else:\n",
        "    result = \"Oh dear, no prize this time.\"\n",
        "\n",
        "print(result)"
      ]
    },
    {
      "cell_type": "markdown",
      "source": [],
      "metadata": {
        "id": "ZAYoTt7vLzo4"
      }
    },
    {
      "cell_type": "markdown",
      "source": [
        "## **TASK 2**"
      ],
      "metadata": {
        "id": "CVLVb1aRMPI_"
      }
    },
    {
      "cell_type": "code",
      "source": [
        "answer = 12\n",
        "guess = 24\n",
        "\n",
        "if guess < answer:\n",
        "    result = \"Oops! Your guess was too low.\"\n",
        "elif guess > answer:\n",
        "    result = \"Oops! Your guess was too high.\"\n",
        "else:\n",
        "    result = \"Nice! Your guess matched the answer!\"\n",
        "\n",
        "print(result)\n"
      ],
      "metadata": {
        "colab": {
          "base_uri": "https://localhost:8080/"
        },
        "id": "AqiY2XWIMSPK",
        "outputId": "9bd27ff2-9225-4556-cecb-b7496ed5bdc0"
      },
      "execution_count": 4,
      "outputs": [
        {
          "output_type": "stream",
          "name": "stdout",
          "text": [
            "Oops! Your guess was too high.\n"
          ]
        }
      ]
    },
    {
      "cell_type": "markdown",
      "source": [
        "## **TASK 3**"
      ],
      "metadata": {
        "id": "CUAWtwFvM74Q"
      }
    },
    {
      "cell_type": "code",
      "source": [
        "def calculate_tax(purchase_amount, state):\n",
        "    tax_rates = {\n",
        "        'PK': 0.075,\n",
        "        'IN': 0.095,\n",
        "        'NY': 0.089,\n",
        "    }\n",
        "\n",
        "    if state in tax_rates:\n",
        "        tax_rate = tax_rates[state]\n",
        "        tax_amount = purchase_amount * tax_rate\n",
        "        total_amount = purchase_amount + tax_amount\n",
        "        return total_amount\n",
        "    else:\n",
        "        return purchase_amount\n",
        "\n",
        "state = \"PK\"\n",
        "purchase_amount = 100.0\n",
        "total_amount_with_tax = calculate_tax(purchase_amount, state)\n",
        "print(f'Total amount with tax: ${total_amount_with_tax:.2f}')\n"
      ],
      "metadata": {
        "colab": {
          "base_uri": "https://localhost:8080/"
        },
        "id": "99_9NGrhNKV1",
        "outputId": "0331c345-e572-4971-9d16-3099ab6446e2"
      },
      "execution_count": 5,
      "outputs": [
        {
          "output_type": "stream",
          "name": "stdout",
          "text": [
            "Total amount with tax: $107.50\n"
          ]
        }
      ]
    },
    {
      "cell_type": "code",
      "source": [],
      "metadata": {
        "id": "aENORMOZN95g"
      },
      "execution_count": null,
      "outputs": []
    },
    {
      "cell_type": "markdown",
      "source": [
        "# **TASK 4**"
      ],
      "metadata": {
        "id": "EULXvcwxN_2M"
      }
    },
    {
      "cell_type": "code",
      "source": [
        "sentence = [\"the\", \"quick\", \"brown\", \"fox\", \"jumped\", \"over\", \"the\", \"lazy\", \"dog\"]\n",
        "\n",
        "for word in sentence:\n",
        "    print(word)"
      ],
      "metadata": {
        "colab": {
          "base_uri": "https://localhost:8080/"
        },
        "id": "WngkEyD5OQip",
        "outputId": "62ec0551-ae11-45c0-e5db-5a767b8d37c4"
      },
      "execution_count": 6,
      "outputs": [
        {
          "output_type": "stream",
          "name": "stdout",
          "text": [
            "the\n",
            "quick\n",
            "brown\n",
            "fox\n",
            "jumped\n",
            "over\n",
            "the\n",
            "lazy\n",
            "dog\n"
          ]
        }
      ]
    },
    {
      "cell_type": "markdown",
      "source": [
        "# **TASK 5**"
      ],
      "metadata": {
        "id": "3ewYVzycOf1K"
      }
    },
    {
      "cell_type": "code",
      "source": [
        "for number in range(5, 31, 5):\n",
        "    print(number)"
      ],
      "metadata": {
        "colab": {
          "base_uri": "https://localhost:8080/"
        },
        "id": "Wxdjx0i_OuGG",
        "outputId": "9e30bb41-3137-457f-d802-7e89590eaff0"
      },
      "execution_count": 7,
      "outputs": [
        {
          "output_type": "stream",
          "name": "stdout",
          "text": [
            "5\n",
            "10\n",
            "15\n",
            "20\n",
            "25\n",
            "30\n"
          ]
        }
      ]
    },
    {
      "cell_type": "markdown",
      "source": [
        "# **TASK 6**"
      ],
      "metadata": {
        "id": "4Fm_6D4cO5oR"
      }
    },
    {
      "cell_type": "code",
      "source": [
        "names = [\"Rick Sanchez\", \"Morty Smith\", \"Summer Smith\", \"Jerry Smith\", \"Beth Smith\"]\n",
        "\n",
        "first_names = [name.split()[0].lower() for name in names]\n",
        "print(first_names)"
      ],
      "metadata": {
        "colab": {
          "base_uri": "https://localhost:8080/"
        },
        "id": "PQtlILBDPUi2",
        "outputId": "e030690c-e8b2-4b74-cc46-a17acb1eb66a"
      },
      "execution_count": 8,
      "outputs": [
        {
          "output_type": "stream",
          "name": "stdout",
          "text": [
            "['rick', 'morty', 'summer', 'jerry', 'beth']\n"
          ]
        }
      ]
    },
    {
      "cell_type": "markdown",
      "source": [
        "# **TASK 7**"
      ],
      "metadata": {
        "id": "wTwTi-J1PejR"
      }
    },
    {
      "cell_type": "code",
      "source": [
        "multiples_3 = [num * 3 for num in range(1, 21)]\n",
        "print(multiples_3)"
      ],
      "metadata": {
        "colab": {
          "base_uri": "https://localhost:8080/"
        },
        "id": "RQa99DCEPiCV",
        "outputId": "855a4647-ccdc-4cda-b2e6-459fcd7d8e14"
      },
      "execution_count": 9,
      "outputs": [
        {
          "output_type": "stream",
          "name": "stdout",
          "text": [
            "[3, 6, 9, 12, 15, 18, 21, 24, 27, 30, 33, 36, 39, 42, 45, 48, 51, 54, 57, 60]\n"
          ]
        }
      ]
    },
    {
      "cell_type": "markdown",
      "source": [
        "# **TASK 8**"
      ],
      "metadata": {
        "id": "4Zz8C0RkPpmx"
      }
    },
    {
      "cell_type": "code",
      "source": [
        "scores = {\n",
        "    \"Rick Sanchez\": 70,\n",
        "    \"Morty Smith\": 35,\n",
        "    \"Summer Smith\": 82,\n",
        "    \"Jerry Smith\": 23,\n",
        "    \"Beth Smith\": 98\n",
        "}\n",
        "\n",
        "passed = [name for name, score in scores.items() if score >= 65]\n",
        "print(passed)"
      ],
      "metadata": {
        "colab": {
          "base_uri": "https://localhost:8080/"
        },
        "id": "dP9v3Yc3Pr-e",
        "outputId": "019e9c51-f3fa-42d0-8c97-c2bba831a0e5"
      },
      "execution_count": 10,
      "outputs": [
        {
          "output_type": "stream",
          "name": "stdout",
          "text": [
            "['Rick Sanchez', 'Summer Smith', 'Beth Smith']\n"
          ]
        }
      ]
    },
    {
      "cell_type": "markdown",
      "source": [
        "# **TASK 9**"
      ],
      "metadata": {
        "id": "QxRrsf1YP3bo"
      }
    },
    {
      "cell_type": "code",
      "source": [
        "cast_names = [\"Barney\", \"Robin\", \"Ted\", \"Lily\", \"Marshall\"]\n",
        "cast_heights = [72, 68, 72, 66, 76]\n",
        "\n",
        "cast = dict(zip(cast_names, cast_heights))\n",
        "print(cast)"
      ],
      "metadata": {
        "colab": {
          "base_uri": "https://localhost:8080/"
        },
        "id": "q-hztzv6P6mz",
        "outputId": "84177f46-0191-43d4-f274-2c9a70a48080"
      },
      "execution_count": 11,
      "outputs": [
        {
          "output_type": "stream",
          "name": "stdout",
          "text": [
            "{'Barney': 72, 'Robin': 68, 'Ted': 72, 'Lily': 66, 'Marshall': 76}\n"
          ]
        }
      ]
    },
    {
      "cell_type": "markdown",
      "source": [
        "# **TASK 10**"
      ],
      "metadata": {
        "id": "0Fc1T2_mQJn4"
      }
    },
    {
      "cell_type": "code",
      "source": [
        "cast = [\"Barney Stinson\", \"Robin Scherbatsky\", \"Ted Mosby\", \"Lily Aldrin\", \"Marshall Eriksen\"]\n",
        "heights = [72, 68, 72, 66, 76]\n",
        "\n",
        "for index, name in enumerate(cast):\n",
        "    cast[index] = f\"{name} {heights[index]}\"\n",
        "\n",
        "print(cast)"
      ],
      "metadata": {
        "colab": {
          "base_uri": "https://localhost:8080/"
        },
        "id": "WuMPO_xMQMQt",
        "outputId": "0b5a13b4-0340-4cc9-84c9-7495079e3ecd"
      },
      "execution_count": 12,
      "outputs": [
        {
          "output_type": "stream",
          "name": "stdout",
          "text": [
            "['Barney Stinson 72', 'Robin Scherbatsky 68', 'Ted Mosby 72', 'Lily Aldrin 66', 'Marshall Eriksen 76']\n"
          ]
        }
      ]
    },
    {
      "cell_type": "code",
      "source": [],
      "metadata": {
        "id": "tVfjM5X3QbZK"
      },
      "execution_count": null,
      "outputs": []
    }
  ]
}