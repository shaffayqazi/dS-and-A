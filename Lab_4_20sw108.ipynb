{
  "nbformat": 4,
  "nbformat_minor": 0,
  "metadata": {
    "colab": {
      "provenance": [],
      "authorship_tag": "ABX9TyMEZBpKafOd8HILsR34P8C4",
      "include_colab_link": true
    },
    "kernelspec": {
      "name": "python3",
      "display_name": "Python 3"
    },
    "language_info": {
      "name": "python"
    }
  },
  "cells": [
    {
      "cell_type": "markdown",
      "metadata": {
        "id": "view-in-github",
        "colab_type": "text"
      },
      "source": [
        "<a href=\"https://colab.research.google.com/github/shaffayqazi/dS-and-A/blob/main/Lab_4_20sw108.ipynb\" target=\"_parent\"><img src=\"https://colab.research.google.com/assets/colab-badge.svg\" alt=\"Open In Colab\"/></a>"
      ]
    },
    {
      "cell_type": "markdown",
      "source": [
        "\n",
        "# **Task 1**"
      ],
      "metadata": {
        "id": "1DjB9ACdnR9-"
      }
    },
    {
      "cell_type": "code",
      "execution_count": 1,
      "metadata": {
        "colab": {
          "base_uri": "https://localhost:8080/"
        },
        "id": "WDXChJJMnQyu",
        "outputId": "21000602-ad19-4c2a-e266-a7a33f6f9c0f"
      },
      "outputs": [
        {
          "output_type": "stream",
          "name": "stdout",
          "text": [
            "[[ 2  4  6  8]\n",
            " [10 12 14 16]\n",
            " [18 20 22 24]\n",
            " [26 28 30 32]]\n"
          ]
        }
      ],
      "source": [
        "import numpy as np\n",
        "\n",
        "# Create a 4 x 4 ndarray with consecutive even numbers\n",
        "even_numbers = np.arange(2, 33, 2).reshape(4, 4)\n",
        "\n",
        "print(even_numbers)"
      ]
    },
    {
      "cell_type": "markdown",
      "source": [
        "\n",
        "# **Task 2**\n"
      ],
      "metadata": {
        "id": "W1bq49jgoPoS"
      }
    },
    {
      "cell_type": "code",
      "source": [
        "import numpy as np\n",
        "\n",
        "# Create a 5 x 5 ndarray with consecutive integers from 1 to 25 (inclusive).\n",
        "X = np.arange(1, 26).reshape(5, 5)\n",
        "\n",
        "# Use Boolean indexing to pick out only the odd numbers in the array\n",
        "Y = X[X % 2 != 0]\n",
        "\n",
        "print(X)\n",
        "print(Y)"
      ],
      "metadata": {
        "colab": {
          "base_uri": "https://localhost:8080/"
        },
        "id": "0uNhEnAOn1_p",
        "outputId": "6d88a2e9-b464-401f-a358-3365af5e45e4"
      },
      "execution_count": 3,
      "outputs": [
        {
          "output_type": "stream",
          "name": "stdout",
          "text": [
            "[[ 1  2  3  4  5]\n",
            " [ 6  7  8  9 10]\n",
            " [11 12 13 14 15]\n",
            " [16 17 18 19 20]\n",
            " [21 22 23 24 25]]\n",
            "[ 1  3  5  7  9 11 13 15 17 19 21 23 25]\n"
          ]
        }
      ]
    },
    {
      "cell_type": "markdown",
      "source": [
        "#**Task 3**"
      ],
      "metadata": {
        "id": "efYtqS9Qokvc"
      }
    },
    {
      "cell_type": "code",
      "source": [
        "import numpy as np\n",
        "\n",
        "# Use Broadcasting to create a 4 x 4 ndarray with columns of consecutive numbers\n",
        "X = np.arange(1, 5)[:, np.newaxis] * np.ones((1, 4))\n",
        "\n",
        "print(X)"
      ],
      "metadata": {
        "colab": {
          "base_uri": "https://localhost:8080/"
        },
        "id": "R3qS7gDQn5iZ",
        "outputId": "ccb847cd-87a1-4e2b-f627-83704ee6a221"
      },
      "execution_count": 4,
      "outputs": [
        {
          "output_type": "stream",
          "name": "stdout",
          "text": [
            "[[1. 1. 1. 1.]\n",
            " [2. 2. 2. 2.]\n",
            " [3. 3. 3. 3.]\n",
            " [4. 4. 4. 4.]]\n"
          ]
        }
      ]
    },
    {
      "cell_type": "markdown",
      "source": [
        "# **Task 4**"
      ],
      "metadata": {
        "id": "EA3AIH3Eow_I"
      }
    },
    {
      "cell_type": "code",
      "source": [],
      "metadata": {
        "id": "Ut-k8PHJouWj"
      },
      "execution_count": null,
      "outputs": []
    }
  ]
}