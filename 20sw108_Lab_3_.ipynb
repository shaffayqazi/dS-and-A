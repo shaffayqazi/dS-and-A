{
  "nbformat": 4,
  "nbformat_minor": 0,
  "metadata": {
    "colab": {
      "provenance": [],
      "authorship_tag": "ABX9TyN3YkX/rWzZHQh/GwTEPgGi",
      "include_colab_link": true
    },
    "kernelspec": {
      "name": "python3",
      "display_name": "Python 3"
    },
    "language_info": {
      "name": "python"
    }
  },
  "cells": [
    {
      "cell_type": "markdown",
      "metadata": {
        "id": "view-in-github",
        "colab_type": "text"
      },
      "source": [
        "<a href=\"https://colab.research.google.com/github/shaffayqazi/dS-and-A/blob/main/20sw108_Lab_3_.ipynb\" target=\"_parent\"><img src=\"https://colab.research.google.com/assets/colab-badge.svg\" alt=\"Open In Colab\"/></a>"
      ]
    },
    {
      "cell_type": "markdown",
      "source": [
        "#**Task 1**"
      ],
      "metadata": {
        "id": "8QY4_sAkL6LI"
      }
    },
    {
      "cell_type": "code",
      "execution_count": 1,
      "metadata": {
        "colab": {
          "base_uri": "https://localhost:8080/"
        },
        "id": "bCS2AhQvLaBX",
        "outputId": "bb001373-bfe7-450c-ff47-0ca1def59dd7"
      },
      "outputs": [
        {
          "output_type": "stream",
          "name": "stdout",
          "text": [
            "expected result: 10, actual result: 10.0\n",
            "expected result: 7123.6902801, actual result: 7123.6902801\n"
          ]
        }
      ],
      "source": [
        "def population_density(population, land_area):\n",
        "    density = population / land_area\n",
        "    return density\n",
        "\n",
        "# Test cases\n",
        "test1 = population_density(10, 1)\n",
        "expected_result1 = 10\n",
        "print(\"expected result: {}, actual result: {}\".format(expected_result1, test1))\n",
        "\n",
        "test2 = population_density(864816, 121.4)\n",
        "expected_result2 = 7123.6902801\n",
        "print(\"expected result: {}, actual result: {:.7f}\".format(expected_result2, test2))"
      ]
    },
    {
      "cell_type": "markdown",
      "source": [
        "#**Task 2**"
      ],
      "metadata": {
        "id": "Lf7jDQhEMIuJ"
      }
    },
    {
      "cell_type": "code",
      "source": [
        "def readable_timedelta(days):\n",
        "    weeks = days // 7\n",
        "    remaining_days = days % 7\n",
        "    return \"{} week(s) and {} day(s)\".format(weeks, remaining_days)\n",
        "\n",
        "\n",
        "print(readable_timedelta(10))"
      ],
      "metadata": {
        "colab": {
          "base_uri": "https://localhost:8080/"
        },
        "id": "cIQe7bCmMCOi",
        "outputId": "74712677-ff6c-4408-c983-1bdaee79981a"
      },
      "execution_count": 2,
      "outputs": [
        {
          "output_type": "stream",
          "name": "stdout",
          "text": [
            "1 week(s) and 3 day(s)\n"
          ]
        }
      ]
    },
    {
      "cell_type": "markdown",
      "source": [
        "#**Task 3**"
      ],
      "metadata": {
        "id": "L9ZeACXwMTxq"
      }
    },
    {
      "cell_type": "code",
      "source": [
        "numbers = [[34, 63, 88, 71, 29], [90, 78, 51, 27, 45], [63, 37, 85, 46, 22], [51, 22, 34, 11, 18]]\n",
        "\n",
        "averages = list(map(lambda num_list: sum(num_list) / len(num_list), numbers))\n",
        "print(averages)"
      ],
      "metadata": {
        "colab": {
          "base_uri": "https://localhost:8080/"
        },
        "id": "AxBTvAavMX4c",
        "outputId": "14ec5a85-1468-467d-c5b3-ee81a8a1ebff"
      },
      "execution_count": 3,
      "outputs": [
        {
          "output_type": "stream",
          "name": "stdout",
          "text": [
            "[57.0, 58.2, 50.6, 27.2]\n"
          ]
        }
      ]
    },
    {
      "cell_type": "markdown",
      "source": [
        "#**Task 4**"
      ],
      "metadata": {
        "id": "BOICzTvvMixC"
      }
    },
    {
      "cell_type": "code",
      "source": [
        "cities = [\"New York City\", \"Los Angeles\", \"Chicago\", \"Mountain View\", \"Denver\", \"Boston\"]\n",
        "\n",
        "short_cities = list(filter(lambda name: len(name) < 10, cities))\n",
        "print(short_cities)"
      ],
      "metadata": {
        "colab": {
          "base_uri": "https://localhost:8080/"
        },
        "id": "e536DSZ_MSiu",
        "outputId": "4524582f-77c3-42db-a9a3-fd89aadc19c2"
      },
      "execution_count": 4,
      "outputs": [
        {
          "output_type": "stream",
          "name": "stdout",
          "text": [
            "['Chicago', 'Denver', 'Boston']\n"
          ]
        }
      ]
    },
    {
      "cell_type": "markdown",
      "source": [
        "#**Task 5**"
      ],
      "metadata": {
        "id": "SgBGFKpUM6Ox"
      }
    },
    {
      "cell_type": "code",
      "source": [
        "\n",
        "names = input(\"Enter a list of names (comma-separated): \").split(',')\n",
        "assignments = list(map(int, input(\"Enter a list of missing assignment counts (comma-separated): \").split(',')))\n",
        "grades = list(map(float, input(\"Enter a list of grades (comma-separated): \").split(',')))\n",
        "\n",
        "\n",
        "for name, assignment_count, grade in zip(names, assignments, grades):\n",
        "    potential_grade = grade + 2 * assignment_count\n",
        "    print(message.format(name, assignment_count, grade, potential_grade))"
      ],
      "metadata": {
        "id": "LUE6qTsZMst2"
      },
      "execution_count": null,
      "outputs": []
    },
    {
      "cell_type": "markdown",
      "source": [
        "#**Task 6**"
      ],
      "metadata": {
        "id": "CCtwed_nNarA"
      }
    },
    {
      "cell_type": "code",
      "source": [
        "with open(\"camelot.txt\") as song:\n",
        "    print(song.read(2))\n",
        "    print(song.read(8))\n",
        "    print(song.read())\n",
        "\n",
        "camelot_lines = []\n",
        "with open(\"camelot.txt\") as f:\n",
        "    for line in f:\n",
        "        camelot_lines.append(line.strip())\n",
        "\n",
        "print(camelot_lines)"
      ],
      "metadata": {
        "id": "ar6jYhzoM9wq"
      },
      "execution_count": null,
      "outputs": []
    },
    {
      "cell_type": "markdown",
      "source": [
        "#**Task 7**"
      ],
      "metadata": {
        "id": "JNtRMwOrNiD3"
      }
    },
    {
      "cell_type": "code",
      "source": [
        "def create_cast_list(filename):\n",
        "    cast_list = []\n",
        "    with open(filename, 'r') as file:\n",
        "        for line in file:\n",
        "            actor_name = line.split(',')[0]\n",
        "            cast_list.append(actor_name.strip())\n",
        "    return cast_list\n",
        "\n",
        "cast_list = create_cast_list('flying_circus_cast.txt')\n",
        "for actor in cast_list:\n",
        "    print(actor)"
      ],
      "metadata": {
        "id": "adEdYc2uNehf"
      },
      "execution_count": null,
      "outputs": []
    },
    {
      "cell_type": "code",
      "source": [],
      "metadata": {
        "id": "_PrvNRfsNsLX"
      },
      "execution_count": null,
      "outputs": []
    }
  ]
}